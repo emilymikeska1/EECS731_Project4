{
  "nbformat": 4,
  "nbformat_minor": 0,
  "metadata": {
    "colab": {
      "name": ".ipynb",
      "provenance": [],
      "mount_file_id": "1uYJSjjcL4nRdN6W5VI_l4m5_VtJEIa10",
      "authorship_tag": "ABX9TyNyfmmZm7ZqZj53mA2tr3Yk",
      "include_colab_link": true
    },
    "kernelspec": {
      "name": "python3",
      "display_name": "Python 3"
    }
  },
  "cells": [
    {
      "cell_type": "markdown",
      "metadata": {
        "id": "view-in-github",
        "colab_type": "text"
      },
      "source": [
        "<a href=\"https://colab.research.google.com/github/emilymikeska1/EECS731_Project4/blob/main/Project4.ipynb\" target=\"_parent\"><img src=\"https://colab.research.google.com/assets/colab-badge.svg\" alt=\"Open In Colab\"/></a>"
      ]
    },
    {
      "cell_type": "code",
      "metadata": {
        "id": "w3WMb0xFrvuW"
      },
      "source": [
        "import numpy as np\n",
        "import pandas as pd\n",
        "from sklearn.ensemble import RandomForestRegressor\n",
        "from sklearn.ensemble import GradientBoostingRegressor\n",
        "from sklearn.linear_model import LinearRegression\n",
        "from sklearn.multioutput import MultiOutputRegressor\n",
        "from sklearn.model_selection import train_test_split\n",
        "from sklearn.model_selection import cross_val_score\n",
        "from sklearn.model_selection import RepeatedKFold\n",
        "from sklearn.metrics import mean_squared_error as mse\n",
        "from sklearn.metrics import r2_score\n",
        "import matplotlib.pyplot as plt"
      ],
      "execution_count": 1,
      "outputs": []
    },
    {
      "cell_type": "code",
      "metadata": {
        "id": "mWsCvxtwsNyS"
      },
      "source": [
        "df1=pd.read_csv('/content/drive/My Drive/Colab Notebooks/mlb_elo.csv')\n",
        "df2=pd.read_csv('/content/drive/My Drive/Colab Notebooks/mlb_elo_latest.csv')"
      ],
      "execution_count": 2,
      "outputs": []
    },
    {
      "cell_type": "markdown",
      "metadata": {
        "id": "VvcId0LZxLnK"
      },
      "source": [
        "Combined the two dataframes"
      ]
    },
    {
      "cell_type": "code",
      "metadata": {
        "id": "K1uQn5vntK_s",
        "outputId": "8d4f2367-c90c-47cb-bd45-740b86ccbbf2",
        "colab": {
          "base_uri": "https://localhost:8080/",
          "height": 590
        }
      },
      "source": [
        "df1.append(df2)"
      ],
      "execution_count": 3,
      "outputs": [
        {
          "output_type": "execute_result",
          "data": {
            "text/html": [
              "<div>\n",
              "<style scoped>\n",
              "    .dataframe tbody tr th:only-of-type {\n",
              "        vertical-align: middle;\n",
              "    }\n",
              "\n",
              "    .dataframe tbody tr th {\n",
              "        vertical-align: top;\n",
              "    }\n",
              "\n",
              "    .dataframe thead th {\n",
              "        text-align: right;\n",
              "    }\n",
              "</style>\n",
              "<table border=\"1\" class=\"dataframe\">\n",
              "  <thead>\n",
              "    <tr style=\"text-align: right;\">\n",
              "      <th></th>\n",
              "      <th>date</th>\n",
              "      <th>season</th>\n",
              "      <th>neutral</th>\n",
              "      <th>playoff</th>\n",
              "      <th>team1</th>\n",
              "      <th>team2</th>\n",
              "      <th>elo1_pre</th>\n",
              "      <th>elo2_pre</th>\n",
              "      <th>elo_prob1</th>\n",
              "      <th>elo_prob2</th>\n",
              "      <th>elo1_post</th>\n",
              "      <th>elo2_post</th>\n",
              "      <th>rating1_pre</th>\n",
              "      <th>rating2_pre</th>\n",
              "      <th>pitcher1</th>\n",
              "      <th>pitcher2</th>\n",
              "      <th>pitcher1_rgs</th>\n",
              "      <th>pitcher2_rgs</th>\n",
              "      <th>pitcher1_adj</th>\n",
              "      <th>pitcher2_adj</th>\n",
              "      <th>rating_prob1</th>\n",
              "      <th>rating_prob2</th>\n",
              "      <th>rating1_post</th>\n",
              "      <th>rating2_post</th>\n",
              "      <th>score1</th>\n",
              "      <th>score2</th>\n",
              "    </tr>\n",
              "  </thead>\n",
              "  <tbody>\n",
              "    <tr>\n",
              "      <th>0</th>\n",
              "      <td>2020-10-08</td>\n",
              "      <td>2020</td>\n",
              "      <td>0</td>\n",
              "      <td>d</td>\n",
              "      <td>TBD</td>\n",
              "      <td>NYY</td>\n",
              "      <td>1566.075394</td>\n",
              "      <td>1557.931446</td>\n",
              "      <td>0.561368</td>\n",
              "      <td>0.438632</td>\n",
              "      <td>NaN</td>\n",
              "      <td>NaN</td>\n",
              "      <td>1562.032965</td>\n",
              "      <td>1562.805994</td>\n",
              "      <td>NaN</td>\n",
              "      <td>NaN</td>\n",
              "      <td>NaN</td>\n",
              "      <td>NaN</td>\n",
              "      <td>NaN</td>\n",
              "      <td>NaN</td>\n",
              "      <td>0.546260</td>\n",
              "      <td>0.453740</td>\n",
              "      <td>NaN</td>\n",
              "      <td>NaN</td>\n",
              "      <td>NaN</td>\n",
              "      <td>NaN</td>\n",
              "    </tr>\n",
              "    <tr>\n",
              "      <th>1</th>\n",
              "      <td>2020-10-08</td>\n",
              "      <td>2020</td>\n",
              "      <td>0</td>\n",
              "      <td>d</td>\n",
              "      <td>OAK</td>\n",
              "      <td>HOU</td>\n",
              "      <td>1547.618027</td>\n",
              "      <td>1542.711978</td>\n",
              "      <td>0.555239</td>\n",
              "      <td>0.444761</td>\n",
              "      <td>NaN</td>\n",
              "      <td>NaN</td>\n",
              "      <td>1532.981409</td>\n",
              "      <td>1552.953477</td>\n",
              "      <td>NaN</td>\n",
              "      <td>NaN</td>\n",
              "      <td>NaN</td>\n",
              "      <td>NaN</td>\n",
              "      <td>NaN</td>\n",
              "      <td>NaN</td>\n",
              "      <td>0.501299</td>\n",
              "      <td>0.498701</td>\n",
              "      <td>NaN</td>\n",
              "      <td>NaN</td>\n",
              "      <td>NaN</td>\n",
              "      <td>NaN</td>\n",
              "    </tr>\n",
              "    <tr>\n",
              "      <th>2</th>\n",
              "      <td>2020-10-07</td>\n",
              "      <td>2020</td>\n",
              "      <td>0</td>\n",
              "      <td>d</td>\n",
              "      <td>NYY</td>\n",
              "      <td>TBD</td>\n",
              "      <td>1557.931446</td>\n",
              "      <td>1566.075394</td>\n",
              "      <td>0.530387</td>\n",
              "      <td>0.469613</td>\n",
              "      <td>NaN</td>\n",
              "      <td>NaN</td>\n",
              "      <td>1562.805994</td>\n",
              "      <td>1562.032965</td>\n",
              "      <td>NaN</td>\n",
              "      <td>NaN</td>\n",
              "      <td>NaN</td>\n",
              "      <td>NaN</td>\n",
              "      <td>NaN</td>\n",
              "      <td>NaN</td>\n",
              "      <td>0.490450</td>\n",
              "      <td>0.509550</td>\n",
              "      <td>NaN</td>\n",
              "      <td>NaN</td>\n",
              "      <td>NaN</td>\n",
              "      <td>NaN</td>\n",
              "    </tr>\n",
              "    <tr>\n",
              "      <th>3</th>\n",
              "      <td>2020-10-07</td>\n",
              "      <td>2020</td>\n",
              "      <td>0</td>\n",
              "      <td>d</td>\n",
              "      <td>HOU</td>\n",
              "      <td>OAK</td>\n",
              "      <td>1542.711978</td>\n",
              "      <td>1547.618027</td>\n",
              "      <td>0.536572</td>\n",
              "      <td>0.463428</td>\n",
              "      <td>NaN</td>\n",
              "      <td>NaN</td>\n",
              "      <td>1552.953477</td>\n",
              "      <td>1532.981409</td>\n",
              "      <td>NaN</td>\n",
              "      <td>NaN</td>\n",
              "      <td>NaN</td>\n",
              "      <td>NaN</td>\n",
              "      <td>NaN</td>\n",
              "      <td>NaN</td>\n",
              "      <td>0.535483</td>\n",
              "      <td>0.464517</td>\n",
              "      <td>NaN</td>\n",
              "      <td>NaN</td>\n",
              "      <td>NaN</td>\n",
              "      <td>NaN</td>\n",
              "    </tr>\n",
              "    <tr>\n",
              "      <th>4</th>\n",
              "      <td>2020-10-06</td>\n",
              "      <td>2020</td>\n",
              "      <td>0</td>\n",
              "      <td>d</td>\n",
              "      <td>NYY</td>\n",
              "      <td>TBD</td>\n",
              "      <td>1557.931446</td>\n",
              "      <td>1566.075394</td>\n",
              "      <td>0.530387</td>\n",
              "      <td>0.469613</td>\n",
              "      <td>NaN</td>\n",
              "      <td>NaN</td>\n",
              "      <td>1562.805994</td>\n",
              "      <td>1562.032965</td>\n",
              "      <td>NaN</td>\n",
              "      <td>NaN</td>\n",
              "      <td>NaN</td>\n",
              "      <td>NaN</td>\n",
              "      <td>NaN</td>\n",
              "      <td>NaN</td>\n",
              "      <td>0.490450</td>\n",
              "      <td>0.509550</td>\n",
              "      <td>NaN</td>\n",
              "      <td>NaN</td>\n",
              "      <td>NaN</td>\n",
              "      <td>NaN</td>\n",
              "    </tr>\n",
              "    <tr>\n",
              "      <th>...</th>\n",
              "      <td>...</td>\n",
              "      <td>...</td>\n",
              "      <td>...</td>\n",
              "      <td>...</td>\n",
              "      <td>...</td>\n",
              "      <td>...</td>\n",
              "      <td>...</td>\n",
              "      <td>...</td>\n",
              "      <td>...</td>\n",
              "      <td>...</td>\n",
              "      <td>...</td>\n",
              "      <td>...</td>\n",
              "      <td>...</td>\n",
              "      <td>...</td>\n",
              "      <td>...</td>\n",
              "      <td>...</td>\n",
              "      <td>...</td>\n",
              "      <td>...</td>\n",
              "      <td>...</td>\n",
              "      <td>...</td>\n",
              "      <td>...</td>\n",
              "      <td>...</td>\n",
              "      <td>...</td>\n",
              "      <td>...</td>\n",
              "      <td>...</td>\n",
              "      <td>...</td>\n",
              "    </tr>\n",
              "    <tr>\n",
              "      <th>922</th>\n",
              "      <td>2020-07-24</td>\n",
              "      <td>2020</td>\n",
              "      <td>0</td>\n",
              "      <td>NaN</td>\n",
              "      <td>TBD</td>\n",
              "      <td>TOR</td>\n",
              "      <td>1537.750707</td>\n",
              "      <td>1487.408999</td>\n",
              "      <td>0.605383</td>\n",
              "      <td>0.394617</td>\n",
              "      <td>1535.385176</td>\n",
              "      <td>1489.774530</td>\n",
              "      <td>1539.417329</td>\n",
              "      <td>1478.540428</td>\n",
              "      <td>Charlie Morton</td>\n",
              "      <td>Hyun-Jin Ryu</td>\n",
              "      <td>59.143800</td>\n",
              "      <td>56.199388</td>\n",
              "      <td>21.387997</td>\n",
              "      <td>22.869271</td>\n",
              "      <td>0.602440</td>\n",
              "      <td>0.397560</td>\n",
              "      <td>1537.654179</td>\n",
              "      <td>1480.303579</td>\n",
              "      <td>4.0</td>\n",
              "      <td>6.0</td>\n",
              "    </tr>\n",
              "    <tr>\n",
              "      <th>923</th>\n",
              "      <td>2020-07-24</td>\n",
              "      <td>2020</td>\n",
              "      <td>0</td>\n",
              "      <td>NaN</td>\n",
              "      <td>CIN</td>\n",
              "      <td>DET</td>\n",
              "      <td>1490.427814</td>\n",
              "      <td>1420.458239</td>\n",
              "      <td>0.632029</td>\n",
              "      <td>0.367971</td>\n",
              "      <td>1492.616909</td>\n",
              "      <td>1418.269144</td>\n",
              "      <td>1521.707154</td>\n",
              "      <td>1436.198577</td>\n",
              "      <td>Sonny Gray</td>\n",
              "      <td>Matthew Boyd</td>\n",
              "      <td>58.879686</td>\n",
              "      <td>49.587500</td>\n",
              "      <td>25.182845</td>\n",
              "      <td>2.579873</td>\n",
              "      <td>0.665662</td>\n",
              "      <td>0.334338</td>\n",
              "      <td>1523.137206</td>\n",
              "      <td>1434.768526</td>\n",
              "      <td>7.0</td>\n",
              "      <td>1.0</td>\n",
              "    </tr>\n",
              "    <tr>\n",
              "      <th>924</th>\n",
              "      <td>2020-07-24</td>\n",
              "      <td>2020</td>\n",
              "      <td>0</td>\n",
              "      <td>NaN</td>\n",
              "      <td>NYM</td>\n",
              "      <td>ATL</td>\n",
              "      <td>1521.484830</td>\n",
              "      <td>1528.909097</td>\n",
              "      <td>0.523836</td>\n",
              "      <td>0.476164</td>\n",
              "      <td>1522.802537</td>\n",
              "      <td>1527.591390</td>\n",
              "      <td>1529.122226</td>\n",
              "      <td>1528.008772</td>\n",
              "      <td>Jacob deGrom</td>\n",
              "      <td>Mike Soroka</td>\n",
              "      <td>64.418447</td>\n",
              "      <td>55.793568</td>\n",
              "      <td>53.729606</td>\n",
              "      <td>22.737531</td>\n",
              "      <td>0.563735</td>\n",
              "      <td>0.436265</td>\n",
              "      <td>1530.004769</td>\n",
              "      <td>1527.126229</td>\n",
              "      <td>1.0</td>\n",
              "      <td>0.0</td>\n",
              "    </tr>\n",
              "    <tr>\n",
              "      <th>925</th>\n",
              "      <td>2020-07-23</td>\n",
              "      <td>2020</td>\n",
              "      <td>0</td>\n",
              "      <td>NaN</td>\n",
              "      <td>LAD</td>\n",
              "      <td>SFG</td>\n",
              "      <td>1561.949414</td>\n",
              "      <td>1487.819917</td>\n",
              "      <td>0.637581</td>\n",
              "      <td>0.362419</td>\n",
              "      <td>1564.351941</td>\n",
              "      <td>1485.417390</td>\n",
              "      <td>1584.386566</td>\n",
              "      <td>1453.743200</td>\n",
              "      <td>Dustin May</td>\n",
              "      <td>Johnny Cueto</td>\n",
              "      <td>48.700313</td>\n",
              "      <td>49.333010</td>\n",
              "      <td>-16.907113</td>\n",
              "      <td>1.884300</td>\n",
              "      <td>0.670766</td>\n",
              "      <td>0.329234</td>\n",
              "      <td>1585.954334</td>\n",
              "      <td>1452.175432</td>\n",
              "      <td>8.0</td>\n",
              "      <td>1.0</td>\n",
              "    </tr>\n",
              "    <tr>\n",
              "      <th>926</th>\n",
              "      <td>2020-07-23</td>\n",
              "      <td>2020</td>\n",
              "      <td>0</td>\n",
              "      <td>NaN</td>\n",
              "      <td>WSN</td>\n",
              "      <td>NYY</td>\n",
              "      <td>1561.015923</td>\n",
              "      <td>1558.092336</td>\n",
              "      <td>0.538669</td>\n",
              "      <td>0.461331</td>\n",
              "      <td>1558.536874</td>\n",
              "      <td>1560.571385</td>\n",
              "      <td>1548.108452</td>\n",
              "      <td>1571.038134</td>\n",
              "      <td>Max Scherzer</td>\n",
              "      <td>Gerrit Cole</td>\n",
              "      <td>60.930717</td>\n",
              "      <td>67.188358</td>\n",
              "      <td>19.423532</td>\n",
              "      <td>51.214276</td>\n",
              "      <td>0.438047</td>\n",
              "      <td>0.561953</td>\n",
              "      <td>1546.677919</td>\n",
              "      <td>1572.468667</td>\n",
              "      <td>1.0</td>\n",
              "      <td>4.0</td>\n",
              "    </tr>\n",
              "  </tbody>\n",
              "</table>\n",
              "<p>221864 rows × 26 columns</p>\n",
              "</div>"
            ],
            "text/plain": [
              "           date  season  neutral  ... rating2_post score1 score2\n",
              "0    2020-10-08    2020        0  ...          NaN    NaN    NaN\n",
              "1    2020-10-08    2020        0  ...          NaN    NaN    NaN\n",
              "2    2020-10-07    2020        0  ...          NaN    NaN    NaN\n",
              "3    2020-10-07    2020        0  ...          NaN    NaN    NaN\n",
              "4    2020-10-06    2020        0  ...          NaN    NaN    NaN\n",
              "..          ...     ...      ...  ...          ...    ...    ...\n",
              "922  2020-07-24    2020        0  ...  1480.303579    4.0    6.0\n",
              "923  2020-07-24    2020        0  ...  1434.768526    7.0    1.0\n",
              "924  2020-07-24    2020        0  ...  1527.126229    1.0    0.0\n",
              "925  2020-07-23    2020        0  ...  1452.175432    8.0    1.0\n",
              "926  2020-07-23    2020        0  ...  1572.468667    1.0    4.0\n",
              "\n",
              "[221864 rows x 26 columns]"
            ]
          },
          "metadata": {
            "tags": []
          },
          "execution_count": 3
        }
      ]
    },
    {
      "cell_type": "code",
      "metadata": {
        "id": "CQZSxdIytPxQ",
        "outputId": "0cfa51fe-2d4c-4cf1-ed04-3ef49c4857b6",
        "colab": {
          "base_uri": "https://localhost:8080/",
          "height": 299
        }
      },
      "source": [
        "df1.head()"
      ],
      "execution_count": 4,
      "outputs": [
        {
          "output_type": "execute_result",
          "data": {
            "text/html": [
              "<div>\n",
              "<style scoped>\n",
              "    .dataframe tbody tr th:only-of-type {\n",
              "        vertical-align: middle;\n",
              "    }\n",
              "\n",
              "    .dataframe tbody tr th {\n",
              "        vertical-align: top;\n",
              "    }\n",
              "\n",
              "    .dataframe thead th {\n",
              "        text-align: right;\n",
              "    }\n",
              "</style>\n",
              "<table border=\"1\" class=\"dataframe\">\n",
              "  <thead>\n",
              "    <tr style=\"text-align: right;\">\n",
              "      <th></th>\n",
              "      <th>date</th>\n",
              "      <th>season</th>\n",
              "      <th>neutral</th>\n",
              "      <th>playoff</th>\n",
              "      <th>team1</th>\n",
              "      <th>team2</th>\n",
              "      <th>elo1_pre</th>\n",
              "      <th>elo2_pre</th>\n",
              "      <th>elo_prob1</th>\n",
              "      <th>elo_prob2</th>\n",
              "      <th>elo1_post</th>\n",
              "      <th>elo2_post</th>\n",
              "      <th>rating1_pre</th>\n",
              "      <th>rating2_pre</th>\n",
              "      <th>pitcher1</th>\n",
              "      <th>pitcher2</th>\n",
              "      <th>pitcher1_rgs</th>\n",
              "      <th>pitcher2_rgs</th>\n",
              "      <th>pitcher1_adj</th>\n",
              "      <th>pitcher2_adj</th>\n",
              "      <th>rating_prob1</th>\n",
              "      <th>rating_prob2</th>\n",
              "      <th>rating1_post</th>\n",
              "      <th>rating2_post</th>\n",
              "      <th>score1</th>\n",
              "      <th>score2</th>\n",
              "    </tr>\n",
              "  </thead>\n",
              "  <tbody>\n",
              "    <tr>\n",
              "      <th>0</th>\n",
              "      <td>2020-10-08</td>\n",
              "      <td>2020</td>\n",
              "      <td>0</td>\n",
              "      <td>d</td>\n",
              "      <td>TBD</td>\n",
              "      <td>NYY</td>\n",
              "      <td>1566.075394</td>\n",
              "      <td>1557.931446</td>\n",
              "      <td>0.561368</td>\n",
              "      <td>0.438632</td>\n",
              "      <td>NaN</td>\n",
              "      <td>NaN</td>\n",
              "      <td>1562.032965</td>\n",
              "      <td>1562.805994</td>\n",
              "      <td>NaN</td>\n",
              "      <td>NaN</td>\n",
              "      <td>NaN</td>\n",
              "      <td>NaN</td>\n",
              "      <td>NaN</td>\n",
              "      <td>NaN</td>\n",
              "      <td>0.546260</td>\n",
              "      <td>0.453740</td>\n",
              "      <td>NaN</td>\n",
              "      <td>NaN</td>\n",
              "      <td>NaN</td>\n",
              "      <td>NaN</td>\n",
              "    </tr>\n",
              "    <tr>\n",
              "      <th>1</th>\n",
              "      <td>2020-10-08</td>\n",
              "      <td>2020</td>\n",
              "      <td>0</td>\n",
              "      <td>d</td>\n",
              "      <td>OAK</td>\n",
              "      <td>HOU</td>\n",
              "      <td>1547.618027</td>\n",
              "      <td>1542.711978</td>\n",
              "      <td>0.555239</td>\n",
              "      <td>0.444761</td>\n",
              "      <td>NaN</td>\n",
              "      <td>NaN</td>\n",
              "      <td>1532.981409</td>\n",
              "      <td>1552.953477</td>\n",
              "      <td>NaN</td>\n",
              "      <td>NaN</td>\n",
              "      <td>NaN</td>\n",
              "      <td>NaN</td>\n",
              "      <td>NaN</td>\n",
              "      <td>NaN</td>\n",
              "      <td>0.501299</td>\n",
              "      <td>0.498701</td>\n",
              "      <td>NaN</td>\n",
              "      <td>NaN</td>\n",
              "      <td>NaN</td>\n",
              "      <td>NaN</td>\n",
              "    </tr>\n",
              "    <tr>\n",
              "      <th>2</th>\n",
              "      <td>2020-10-07</td>\n",
              "      <td>2020</td>\n",
              "      <td>0</td>\n",
              "      <td>d</td>\n",
              "      <td>NYY</td>\n",
              "      <td>TBD</td>\n",
              "      <td>1557.931446</td>\n",
              "      <td>1566.075394</td>\n",
              "      <td>0.530387</td>\n",
              "      <td>0.469613</td>\n",
              "      <td>NaN</td>\n",
              "      <td>NaN</td>\n",
              "      <td>1562.805994</td>\n",
              "      <td>1562.032965</td>\n",
              "      <td>NaN</td>\n",
              "      <td>NaN</td>\n",
              "      <td>NaN</td>\n",
              "      <td>NaN</td>\n",
              "      <td>NaN</td>\n",
              "      <td>NaN</td>\n",
              "      <td>0.490450</td>\n",
              "      <td>0.509550</td>\n",
              "      <td>NaN</td>\n",
              "      <td>NaN</td>\n",
              "      <td>NaN</td>\n",
              "      <td>NaN</td>\n",
              "    </tr>\n",
              "    <tr>\n",
              "      <th>3</th>\n",
              "      <td>2020-10-07</td>\n",
              "      <td>2020</td>\n",
              "      <td>0</td>\n",
              "      <td>d</td>\n",
              "      <td>HOU</td>\n",
              "      <td>OAK</td>\n",
              "      <td>1542.711978</td>\n",
              "      <td>1547.618027</td>\n",
              "      <td>0.536572</td>\n",
              "      <td>0.463428</td>\n",
              "      <td>NaN</td>\n",
              "      <td>NaN</td>\n",
              "      <td>1552.953477</td>\n",
              "      <td>1532.981409</td>\n",
              "      <td>NaN</td>\n",
              "      <td>NaN</td>\n",
              "      <td>NaN</td>\n",
              "      <td>NaN</td>\n",
              "      <td>NaN</td>\n",
              "      <td>NaN</td>\n",
              "      <td>0.535483</td>\n",
              "      <td>0.464517</td>\n",
              "      <td>NaN</td>\n",
              "      <td>NaN</td>\n",
              "      <td>NaN</td>\n",
              "      <td>NaN</td>\n",
              "    </tr>\n",
              "    <tr>\n",
              "      <th>4</th>\n",
              "      <td>2020-10-06</td>\n",
              "      <td>2020</td>\n",
              "      <td>0</td>\n",
              "      <td>d</td>\n",
              "      <td>NYY</td>\n",
              "      <td>TBD</td>\n",
              "      <td>1557.931446</td>\n",
              "      <td>1566.075394</td>\n",
              "      <td>0.530387</td>\n",
              "      <td>0.469613</td>\n",
              "      <td>NaN</td>\n",
              "      <td>NaN</td>\n",
              "      <td>1562.805994</td>\n",
              "      <td>1562.032965</td>\n",
              "      <td>NaN</td>\n",
              "      <td>NaN</td>\n",
              "      <td>NaN</td>\n",
              "      <td>NaN</td>\n",
              "      <td>NaN</td>\n",
              "      <td>NaN</td>\n",
              "      <td>0.490450</td>\n",
              "      <td>0.509550</td>\n",
              "      <td>NaN</td>\n",
              "      <td>NaN</td>\n",
              "      <td>NaN</td>\n",
              "      <td>NaN</td>\n",
              "    </tr>\n",
              "  </tbody>\n",
              "</table>\n",
              "</div>"
            ],
            "text/plain": [
              "         date  season  neutral  ... rating2_post score1 score2\n",
              "0  2020-10-08    2020        0  ...          NaN    NaN    NaN\n",
              "1  2020-10-08    2020        0  ...          NaN    NaN    NaN\n",
              "2  2020-10-07    2020        0  ...          NaN    NaN    NaN\n",
              "3  2020-10-07    2020        0  ...          NaN    NaN    NaN\n",
              "4  2020-10-06    2020        0  ...          NaN    NaN    NaN\n",
              "\n",
              "[5 rows x 26 columns]"
            ]
          },
          "metadata": {
            "tags": []
          },
          "execution_count": 4
        }
      ]
    },
    {
      "cell_type": "code",
      "metadata": {
        "id": "MAb4hmIVtQtW",
        "outputId": "1895df4e-f4aa-4d5f-d351-757619967ea3",
        "colab": {
          "base_uri": "https://localhost:8080/",
          "height": 470
        }
      },
      "source": [
        "df1.dtypes"
      ],
      "execution_count": 5,
      "outputs": [
        {
          "output_type": "execute_result",
          "data": {
            "text/plain": [
              "date             object\n",
              "season            int64\n",
              "neutral           int64\n",
              "playoff          object\n",
              "team1            object\n",
              "team2            object\n",
              "elo1_pre        float64\n",
              "elo2_pre        float64\n",
              "elo_prob1       float64\n",
              "elo_prob2       float64\n",
              "elo1_post       float64\n",
              "elo2_post       float64\n",
              "rating1_pre     float64\n",
              "rating2_pre     float64\n",
              "pitcher1         object\n",
              "pitcher2         object\n",
              "pitcher1_rgs    float64\n",
              "pitcher2_rgs    float64\n",
              "pitcher1_adj    float64\n",
              "pitcher2_adj    float64\n",
              "rating_prob1    float64\n",
              "rating_prob2    float64\n",
              "rating1_post    float64\n",
              "rating2_post    float64\n",
              "score1          float64\n",
              "score2          float64\n",
              "dtype: object"
            ]
          },
          "metadata": {
            "tags": []
          },
          "execution_count": 5
        }
      ]
    },
    {
      "cell_type": "code",
      "metadata": {
        "id": "HBiHfNgbtSHe",
        "outputId": "c943a710-4e19-4b7d-a7f2-bf23b7d9951e",
        "colab": {
          "base_uri": "https://localhost:8080/",
          "height": 34
        }
      },
      "source": [
        "df1.shape"
      ],
      "execution_count": 6,
      "outputs": [
        {
          "output_type": "execute_result",
          "data": {
            "text/plain": [
              "(220937, 26)"
            ]
          },
          "metadata": {
            "tags": []
          },
          "execution_count": 6
        }
      ]
    },
    {
      "cell_type": "markdown",
      "metadata": {
        "id": "siLO5hwsyFB4"
      },
      "source": [
        "Data preprocessesing included changing the 'date' column to a more usable format, removing several features, filling empty cells with 0, removing rows that are missing a score from either team1 or team2, creating a new feature called 'score_diff', and One Hot Encoding the features team1 and team2."
      ]
    },
    {
      "cell_type": "code",
      "metadata": {
        "id": "hYNrycnJtVme"
      },
      "source": [
        "df1['date']=df1['date'].astype('datetime64[ns]')\n",
        "df1['date']=df1['date'].values.astype('float64')\n",
        "df1=df1.drop(df1[['playoff','neutral','pitcher1','pitcher2']], axis=1)"
      ],
      "execution_count": 7,
      "outputs": []
    },
    {
      "cell_type": "code",
      "metadata": {
        "id": "VMoj9dg_tXiF",
        "outputId": "0b5ddba9-23b9-4aba-a128-61724ded6dd2",
        "colab": {
          "base_uri": "https://localhost:8080/",
          "height": 403
        }
      },
      "source": [
        "df1.dtypes"
      ],
      "execution_count": 8,
      "outputs": [
        {
          "output_type": "execute_result",
          "data": {
            "text/plain": [
              "date            float64\n",
              "season            int64\n",
              "team1            object\n",
              "team2            object\n",
              "elo1_pre        float64\n",
              "elo2_pre        float64\n",
              "elo_prob1       float64\n",
              "elo_prob2       float64\n",
              "elo1_post       float64\n",
              "elo2_post       float64\n",
              "rating1_pre     float64\n",
              "rating2_pre     float64\n",
              "pitcher1_rgs    float64\n",
              "pitcher2_rgs    float64\n",
              "pitcher1_adj    float64\n",
              "pitcher2_adj    float64\n",
              "rating_prob1    float64\n",
              "rating_prob2    float64\n",
              "rating1_post    float64\n",
              "rating2_post    float64\n",
              "score1          float64\n",
              "score2          float64\n",
              "dtype: object"
            ]
          },
          "metadata": {
            "tags": []
          },
          "execution_count": 8
        }
      ]
    },
    {
      "cell_type": "code",
      "metadata": {
        "id": "WcLUg6x4tZEc"
      },
      "source": [
        "#df1['pitcher1'].fillna('O', inplace=True)\n",
        "#df1['pitcher2'].fillna('O', inplace=True)\n",
        "df1['elo1_post'].fillna(0, inplace=True)\n",
        "df1['elo2_post'].fillna(0, inplace=True)\n",
        "df1['pitcher1_rgs'].fillna(0, inplace=True)\n",
        "df1['pitcher2_rgs'].fillna(0, inplace=True)\n",
        "df1['pitcher1_adj'].fillna(0, inplace=True)\n",
        "df1['pitcher2_adj'].fillna(0, inplace=True)\n",
        "df1['rating1_post'].fillna(0, inplace=True)\n",
        "df1['rating2_post'].fillna(0, inplace=True)"
      ],
      "execution_count": 9,
      "outputs": []
    },
    {
      "cell_type": "code",
      "metadata": {
        "id": "eB4p5Xiutaed"
      },
      "source": [
        "df1=df1[df1['score1'].notna()]\n",
        "df1=df1[df1['score2'].notna()]\n",
        "#df1=df1[df1['pitcher1'].notna()]\n",
        "#df1=df1[df1['pitcher2'].notna()]"
      ],
      "execution_count": 10,
      "outputs": []
    },
    {
      "cell_type": "code",
      "metadata": {
        "id": "hVWqD_hPtcsd"
      },
      "source": [
        "score_diff=df1['score1']-df1['score2']\n",
        "score_diff=abs(score_diff)\n",
        "df1['score_diff']=score_diff"
      ],
      "execution_count": 11,
      "outputs": []
    },
    {
      "cell_type": "code",
      "metadata": {
        "id": "WDq8tG4_teX9",
        "outputId": "eaf8e4e3-aa70-4727-e98a-5c7439c68443",
        "colab": {
          "base_uri": "https://localhost:8080/",
          "height": 34
        }
      },
      "source": [
        "df1.shape"
      ],
      "execution_count": 12,
      "outputs": [
        {
          "output_type": "execute_result",
          "data": {
            "text/plain": [
              "(220924, 23)"
            ]
          },
          "metadata": {
            "tags": []
          },
          "execution_count": 12
        }
      ]
    },
    {
      "cell_type": "code",
      "metadata": {
        "id": "gBeyiwbctfoV",
        "outputId": "6d0bdc1d-3de5-4337-835f-a8781d9819a8",
        "colab": {
          "base_uri": "https://localhost:8080/",
          "height": 420
        }
      },
      "source": [
        "df1.isnull().any()"
      ],
      "execution_count": 13,
      "outputs": [
        {
          "output_type": "execute_result",
          "data": {
            "text/plain": [
              "date            False\n",
              "season          False\n",
              "team1           False\n",
              "team2           False\n",
              "elo1_pre        False\n",
              "elo2_pre        False\n",
              "elo_prob1       False\n",
              "elo_prob2       False\n",
              "elo1_post       False\n",
              "elo2_post       False\n",
              "rating1_pre     False\n",
              "rating2_pre     False\n",
              "pitcher1_rgs    False\n",
              "pitcher2_rgs    False\n",
              "pitcher1_adj    False\n",
              "pitcher2_adj    False\n",
              "rating_prob1    False\n",
              "rating_prob2    False\n",
              "rating1_post    False\n",
              "rating2_post    False\n",
              "score1          False\n",
              "score2          False\n",
              "score_diff      False\n",
              "dtype: bool"
            ]
          },
          "metadata": {
            "tags": []
          },
          "execution_count": 13
        }
      ]
    },
    {
      "cell_type": "code",
      "metadata": {
        "id": "hVegm_authDd",
        "outputId": "3978f6c2-1520-4aa1-c1d9-9ccfe6cb54df",
        "colab": {
          "base_uri": "https://localhost:8080/",
          "height": 420
        }
      },
      "source": [
        "df1.dtypes"
      ],
      "execution_count": 14,
      "outputs": [
        {
          "output_type": "execute_result",
          "data": {
            "text/plain": [
              "date            float64\n",
              "season            int64\n",
              "team1            object\n",
              "team2            object\n",
              "elo1_pre        float64\n",
              "elo2_pre        float64\n",
              "elo_prob1       float64\n",
              "elo_prob2       float64\n",
              "elo1_post       float64\n",
              "elo2_post       float64\n",
              "rating1_pre     float64\n",
              "rating2_pre     float64\n",
              "pitcher1_rgs    float64\n",
              "pitcher2_rgs    float64\n",
              "pitcher1_adj    float64\n",
              "pitcher2_adj    float64\n",
              "rating_prob1    float64\n",
              "rating_prob2    float64\n",
              "rating1_post    float64\n",
              "rating2_post    float64\n",
              "score1          float64\n",
              "score2          float64\n",
              "score_diff      float64\n",
              "dtype: object"
            ]
          },
          "metadata": {
            "tags": []
          },
          "execution_count": 14
        }
      ]
    },
    {
      "cell_type": "markdown",
      "metadata": {
        "id": "-jjLRO7zyJEt"
      },
      "source": [
        "Took only the first 10000 rows to encode and train the models."
      ]
    },
    {
      "cell_type": "code",
      "metadata": {
        "id": "_UZaKaDlALA_"
      },
      "source": [
        "df1=df1.sample(frac=1)\n",
        "df=df1.head(10000)"
      ],
      "execution_count": 15,
      "outputs": []
    },
    {
      "cell_type": "code",
      "metadata": {
        "id": "8fj0fzXSQH1g"
      },
      "source": [
        "team1_enc=pd.get_dummies(df['team1'])\n",
        "df=df.drop('team1', axis=1)\n",
        "df=df.join(team1_enc)"
      ],
      "execution_count": 16,
      "outputs": []
    },
    {
      "cell_type": "code",
      "metadata": {
        "id": "BcqA7p7oTfix"
      },
      "source": [
        "team2_enc=pd.get_dummies(df['team2'])\n",
        "df=df.drop('team2', axis=1)\n",
        "df=df.merge(team2_enc)"
      ],
      "execution_count": 17,
      "outputs": []
    },
    {
      "cell_type": "markdown",
      "metadata": {
        "id": "OO5Db0Y8yOrn"
      },
      "source": [
        "Removed features 'pitcher1' and 'pitcher2' because the encoding was taking too much memory and crashing google colab.\n"
      ]
    },
    {
      "cell_type": "code",
      "metadata": {
        "id": "mMvsuklATmUg"
      },
      "source": [
        "#pitcher1_enc=pd.get_dummies(df['pitcher1'])\n",
        "#df=df.drop('pitcher1', axis=1)\n",
        "#df=df.join(pitcher1_enc)"
      ],
      "execution_count": 18,
      "outputs": []
    },
    {
      "cell_type": "code",
      "metadata": {
        "id": "4BFatAqlTnW4"
      },
      "source": [
        "#pitcher2_enc=pd.get_dummies(df['pitcher2'])\n",
        "#df=df.merge(pitcher2_enc)\n",
        "#df=df.drop('pitcher2', axis=1)"
      ],
      "execution_count": 19,
      "outputs": []
    },
    {
      "cell_type": "code",
      "metadata": {
        "id": "l3l_wJkjQdH9",
        "outputId": "8b1ca79c-79ce-423b-bf2b-c5e944359815",
        "colab": {
          "base_uri": "https://localhost:8080/",
          "height": 244
        }
      },
      "source": [
        "df.head()"
      ],
      "execution_count": 18,
      "outputs": [
        {
          "output_type": "execute_result",
          "data": {
            "text/html": [
              "<div>\n",
              "<style scoped>\n",
              "    .dataframe tbody tr th:only-of-type {\n",
              "        vertical-align: middle;\n",
              "    }\n",
              "\n",
              "    .dataframe tbody tr th {\n",
              "        vertical-align: top;\n",
              "    }\n",
              "\n",
              "    .dataframe thead th {\n",
              "        text-align: right;\n",
              "    }\n",
              "</style>\n",
              "<table border=\"1\" class=\"dataframe\">\n",
              "  <thead>\n",
              "    <tr style=\"text-align: right;\">\n",
              "      <th></th>\n",
              "      <th>date</th>\n",
              "      <th>season</th>\n",
              "      <th>elo1_pre</th>\n",
              "      <th>elo2_pre</th>\n",
              "      <th>elo_prob1</th>\n",
              "      <th>elo_prob2</th>\n",
              "      <th>elo1_post</th>\n",
              "      <th>elo2_post</th>\n",
              "      <th>rating1_pre</th>\n",
              "      <th>rating2_pre</th>\n",
              "      <th>pitcher1_rgs</th>\n",
              "      <th>pitcher2_rgs</th>\n",
              "      <th>pitcher1_adj</th>\n",
              "      <th>pitcher2_adj</th>\n",
              "      <th>rating_prob1</th>\n",
              "      <th>rating_prob2</th>\n",
              "      <th>rating1_post</th>\n",
              "      <th>rating2_post</th>\n",
              "      <th>score1</th>\n",
              "      <th>score2</th>\n",
              "      <th>score_diff</th>\n",
              "      <th>ANA</th>\n",
              "      <th>ARI</th>\n",
              "      <th>ATL</th>\n",
              "      <th>BAL</th>\n",
              "      <th>BFN</th>\n",
              "      <th>BL1</th>\n",
              "      <th>BL2</th>\n",
              "      <th>BOS</th>\n",
              "      <th>BR1</th>\n",
              "      <th>BR2</th>\n",
              "      <th>BR4</th>\n",
              "      <th>BSP</th>\n",
              "      <th>CHC</th>\n",
              "      <th>CHW</th>\n",
              "      <th>CIN</th>\n",
              "      <th>CL1</th>\n",
              "      <th>CL2</th>\n",
              "      <th>CL3</th>\n",
              "      <th>CL5</th>\n",
              "      <th>...</th>\n",
              "      <th>NY4</th>\n",
              "      <th>NYM</th>\n",
              "      <th>NYY</th>\n",
              "      <th>OAK</th>\n",
              "      <th>PH1</th>\n",
              "      <th>PH2</th>\n",
              "      <th>PH3</th>\n",
              "      <th>PH4</th>\n",
              "      <th>PHI</th>\n",
              "      <th>PHP</th>\n",
              "      <th>PIT</th>\n",
              "      <th>PRO</th>\n",
              "      <th>RC2</th>\n",
              "      <th>RIC</th>\n",
              "      <th>SDP</th>\n",
              "      <th>SEA</th>\n",
              "      <th>SFG</th>\n",
              "      <th>SL2</th>\n",
              "      <th>SLU</th>\n",
              "      <th>SR1</th>\n",
              "      <th>SR2</th>\n",
              "      <th>STL</th>\n",
              "      <th>TBD</th>\n",
              "      <th>TEX</th>\n",
              "      <th>TL1</th>\n",
              "      <th>TL2</th>\n",
              "      <th>TOR</th>\n",
              "      <th>TRN</th>\n",
              "      <th>TRO</th>\n",
              "      <th>WOR</th>\n",
              "      <th>WS3</th>\n",
              "      <th>WS6</th>\n",
              "      <th>WS7</th>\n",
              "      <th>WS8</th>\n",
              "      <th>WS9</th>\n",
              "      <th>WSN</th>\n",
              "      <th>BL4</th>\n",
              "      <th>ELI</th>\n",
              "      <th>MID</th>\n",
              "      <th>RC1</th>\n",
              "    </tr>\n",
              "  </thead>\n",
              "  <tbody>\n",
              "    <tr>\n",
              "      <th>0</th>\n",
              "      <td>1.146442e+18</td>\n",
              "      <td>2006</td>\n",
              "      <td>1505.397</td>\n",
              "      <td>1460.054</td>\n",
              "      <td>0.598488</td>\n",
              "      <td>0.401512</td>\n",
              "      <td>1506.422</td>\n",
              "      <td>1459.029</td>\n",
              "      <td>1504.621</td>\n",
              "      <td>1461.142</td>\n",
              "      <td>48.792</td>\n",
              "      <td>44.662</td>\n",
              "      <td>8.628522</td>\n",
              "      <td>6.883713</td>\n",
              "      <td>0.599101</td>\n",
              "      <td>0.400899</td>\n",
              "      <td>1505.631</td>\n",
              "      <td>1460.131</td>\n",
              "      <td>2.0</td>\n",
              "      <td>1.0</td>\n",
              "      <td>1.0</td>\n",
              "      <td>0</td>\n",
              "      <td>0</td>\n",
              "      <td>0</td>\n",
              "      <td>0</td>\n",
              "      <td>0</td>\n",
              "      <td>0</td>\n",
              "      <td>0</td>\n",
              "      <td>0</td>\n",
              "      <td>0</td>\n",
              "      <td>0</td>\n",
              "      <td>0</td>\n",
              "      <td>0</td>\n",
              "      <td>1</td>\n",
              "      <td>0</td>\n",
              "      <td>0</td>\n",
              "      <td>0</td>\n",
              "      <td>0</td>\n",
              "      <td>0</td>\n",
              "      <td>0</td>\n",
              "      <td>...</td>\n",
              "      <td>0</td>\n",
              "      <td>0</td>\n",
              "      <td>0</td>\n",
              "      <td>0</td>\n",
              "      <td>0</td>\n",
              "      <td>0</td>\n",
              "      <td>0</td>\n",
              "      <td>0</td>\n",
              "      <td>0</td>\n",
              "      <td>0</td>\n",
              "      <td>0</td>\n",
              "      <td>0</td>\n",
              "      <td>0</td>\n",
              "      <td>0</td>\n",
              "      <td>0</td>\n",
              "      <td>0</td>\n",
              "      <td>0</td>\n",
              "      <td>0</td>\n",
              "      <td>0</td>\n",
              "      <td>0</td>\n",
              "      <td>0</td>\n",
              "      <td>0</td>\n",
              "      <td>0</td>\n",
              "      <td>0</td>\n",
              "      <td>0</td>\n",
              "      <td>0</td>\n",
              "      <td>0</td>\n",
              "      <td>0</td>\n",
              "      <td>0</td>\n",
              "      <td>0</td>\n",
              "      <td>0</td>\n",
              "      <td>0</td>\n",
              "      <td>0</td>\n",
              "      <td>0</td>\n",
              "      <td>0</td>\n",
              "      <td>0</td>\n",
              "      <td>0</td>\n",
              "      <td>0</td>\n",
              "      <td>0</td>\n",
              "      <td>0</td>\n",
              "    </tr>\n",
              "    <tr>\n",
              "      <th>1</th>\n",
              "      <td>1.146442e+18</td>\n",
              "      <td>2006</td>\n",
              "      <td>1505.397</td>\n",
              "      <td>1460.054</td>\n",
              "      <td>0.598488</td>\n",
              "      <td>0.401512</td>\n",
              "      <td>1506.422</td>\n",
              "      <td>1459.029</td>\n",
              "      <td>1504.621</td>\n",
              "      <td>1461.142</td>\n",
              "      <td>48.792</td>\n",
              "      <td>44.662</td>\n",
              "      <td>8.628522</td>\n",
              "      <td>6.883713</td>\n",
              "      <td>0.599101</td>\n",
              "      <td>0.400899</td>\n",
              "      <td>1505.631</td>\n",
              "      <td>1460.131</td>\n",
              "      <td>2.0</td>\n",
              "      <td>1.0</td>\n",
              "      <td>1.0</td>\n",
              "      <td>0</td>\n",
              "      <td>0</td>\n",
              "      <td>0</td>\n",
              "      <td>0</td>\n",
              "      <td>0</td>\n",
              "      <td>0</td>\n",
              "      <td>0</td>\n",
              "      <td>0</td>\n",
              "      <td>0</td>\n",
              "      <td>0</td>\n",
              "      <td>0</td>\n",
              "      <td>0</td>\n",
              "      <td>1</td>\n",
              "      <td>0</td>\n",
              "      <td>0</td>\n",
              "      <td>0</td>\n",
              "      <td>0</td>\n",
              "      <td>0</td>\n",
              "      <td>0</td>\n",
              "      <td>...</td>\n",
              "      <td>0</td>\n",
              "      <td>0</td>\n",
              "      <td>0</td>\n",
              "      <td>0</td>\n",
              "      <td>0</td>\n",
              "      <td>0</td>\n",
              "      <td>0</td>\n",
              "      <td>0</td>\n",
              "      <td>0</td>\n",
              "      <td>0</td>\n",
              "      <td>0</td>\n",
              "      <td>0</td>\n",
              "      <td>0</td>\n",
              "      <td>0</td>\n",
              "      <td>0</td>\n",
              "      <td>0</td>\n",
              "      <td>0</td>\n",
              "      <td>0</td>\n",
              "      <td>0</td>\n",
              "      <td>0</td>\n",
              "      <td>0</td>\n",
              "      <td>0</td>\n",
              "      <td>0</td>\n",
              "      <td>0</td>\n",
              "      <td>0</td>\n",
              "      <td>0</td>\n",
              "      <td>0</td>\n",
              "      <td>0</td>\n",
              "      <td>0</td>\n",
              "      <td>0</td>\n",
              "      <td>0</td>\n",
              "      <td>0</td>\n",
              "      <td>0</td>\n",
              "      <td>0</td>\n",
              "      <td>0</td>\n",
              "      <td>0</td>\n",
              "      <td>0</td>\n",
              "      <td>0</td>\n",
              "      <td>0</td>\n",
              "      <td>0</td>\n",
              "    </tr>\n",
              "    <tr>\n",
              "      <th>2</th>\n",
              "      <td>1.146442e+18</td>\n",
              "      <td>2006</td>\n",
              "      <td>1505.397</td>\n",
              "      <td>1460.054</td>\n",
              "      <td>0.598488</td>\n",
              "      <td>0.401512</td>\n",
              "      <td>1506.422</td>\n",
              "      <td>1459.029</td>\n",
              "      <td>1504.621</td>\n",
              "      <td>1461.142</td>\n",
              "      <td>48.792</td>\n",
              "      <td>44.662</td>\n",
              "      <td>8.628522</td>\n",
              "      <td>6.883713</td>\n",
              "      <td>0.599101</td>\n",
              "      <td>0.400899</td>\n",
              "      <td>1505.631</td>\n",
              "      <td>1460.131</td>\n",
              "      <td>2.0</td>\n",
              "      <td>1.0</td>\n",
              "      <td>1.0</td>\n",
              "      <td>0</td>\n",
              "      <td>0</td>\n",
              "      <td>0</td>\n",
              "      <td>0</td>\n",
              "      <td>0</td>\n",
              "      <td>0</td>\n",
              "      <td>0</td>\n",
              "      <td>0</td>\n",
              "      <td>0</td>\n",
              "      <td>0</td>\n",
              "      <td>0</td>\n",
              "      <td>0</td>\n",
              "      <td>1</td>\n",
              "      <td>0</td>\n",
              "      <td>0</td>\n",
              "      <td>0</td>\n",
              "      <td>0</td>\n",
              "      <td>0</td>\n",
              "      <td>0</td>\n",
              "      <td>...</td>\n",
              "      <td>0</td>\n",
              "      <td>0</td>\n",
              "      <td>0</td>\n",
              "      <td>0</td>\n",
              "      <td>0</td>\n",
              "      <td>0</td>\n",
              "      <td>0</td>\n",
              "      <td>0</td>\n",
              "      <td>0</td>\n",
              "      <td>0</td>\n",
              "      <td>0</td>\n",
              "      <td>0</td>\n",
              "      <td>0</td>\n",
              "      <td>0</td>\n",
              "      <td>0</td>\n",
              "      <td>0</td>\n",
              "      <td>0</td>\n",
              "      <td>0</td>\n",
              "      <td>0</td>\n",
              "      <td>0</td>\n",
              "      <td>0</td>\n",
              "      <td>0</td>\n",
              "      <td>0</td>\n",
              "      <td>0</td>\n",
              "      <td>0</td>\n",
              "      <td>0</td>\n",
              "      <td>0</td>\n",
              "      <td>0</td>\n",
              "      <td>0</td>\n",
              "      <td>0</td>\n",
              "      <td>0</td>\n",
              "      <td>0</td>\n",
              "      <td>0</td>\n",
              "      <td>0</td>\n",
              "      <td>0</td>\n",
              "      <td>0</td>\n",
              "      <td>0</td>\n",
              "      <td>0</td>\n",
              "      <td>0</td>\n",
              "      <td>0</td>\n",
              "    </tr>\n",
              "    <tr>\n",
              "      <th>3</th>\n",
              "      <td>1.146442e+18</td>\n",
              "      <td>2006</td>\n",
              "      <td>1505.397</td>\n",
              "      <td>1460.054</td>\n",
              "      <td>0.598488</td>\n",
              "      <td>0.401512</td>\n",
              "      <td>1506.422</td>\n",
              "      <td>1459.029</td>\n",
              "      <td>1504.621</td>\n",
              "      <td>1461.142</td>\n",
              "      <td>48.792</td>\n",
              "      <td>44.662</td>\n",
              "      <td>8.628522</td>\n",
              "      <td>6.883713</td>\n",
              "      <td>0.599101</td>\n",
              "      <td>0.400899</td>\n",
              "      <td>1505.631</td>\n",
              "      <td>1460.131</td>\n",
              "      <td>2.0</td>\n",
              "      <td>1.0</td>\n",
              "      <td>1.0</td>\n",
              "      <td>0</td>\n",
              "      <td>0</td>\n",
              "      <td>0</td>\n",
              "      <td>0</td>\n",
              "      <td>0</td>\n",
              "      <td>0</td>\n",
              "      <td>0</td>\n",
              "      <td>0</td>\n",
              "      <td>0</td>\n",
              "      <td>0</td>\n",
              "      <td>0</td>\n",
              "      <td>0</td>\n",
              "      <td>1</td>\n",
              "      <td>0</td>\n",
              "      <td>0</td>\n",
              "      <td>0</td>\n",
              "      <td>0</td>\n",
              "      <td>0</td>\n",
              "      <td>0</td>\n",
              "      <td>...</td>\n",
              "      <td>0</td>\n",
              "      <td>0</td>\n",
              "      <td>0</td>\n",
              "      <td>0</td>\n",
              "      <td>0</td>\n",
              "      <td>0</td>\n",
              "      <td>0</td>\n",
              "      <td>0</td>\n",
              "      <td>0</td>\n",
              "      <td>0</td>\n",
              "      <td>0</td>\n",
              "      <td>0</td>\n",
              "      <td>0</td>\n",
              "      <td>0</td>\n",
              "      <td>0</td>\n",
              "      <td>0</td>\n",
              "      <td>0</td>\n",
              "      <td>0</td>\n",
              "      <td>0</td>\n",
              "      <td>0</td>\n",
              "      <td>0</td>\n",
              "      <td>0</td>\n",
              "      <td>0</td>\n",
              "      <td>0</td>\n",
              "      <td>0</td>\n",
              "      <td>0</td>\n",
              "      <td>0</td>\n",
              "      <td>0</td>\n",
              "      <td>0</td>\n",
              "      <td>0</td>\n",
              "      <td>0</td>\n",
              "      <td>0</td>\n",
              "      <td>0</td>\n",
              "      <td>0</td>\n",
              "      <td>0</td>\n",
              "      <td>0</td>\n",
              "      <td>0</td>\n",
              "      <td>0</td>\n",
              "      <td>0</td>\n",
              "      <td>0</td>\n",
              "    </tr>\n",
              "    <tr>\n",
              "      <th>4</th>\n",
              "      <td>1.146442e+18</td>\n",
              "      <td>2006</td>\n",
              "      <td>1505.397</td>\n",
              "      <td>1460.054</td>\n",
              "      <td>0.598488</td>\n",
              "      <td>0.401512</td>\n",
              "      <td>1506.422</td>\n",
              "      <td>1459.029</td>\n",
              "      <td>1504.621</td>\n",
              "      <td>1461.142</td>\n",
              "      <td>48.792</td>\n",
              "      <td>44.662</td>\n",
              "      <td>8.628522</td>\n",
              "      <td>6.883713</td>\n",
              "      <td>0.599101</td>\n",
              "      <td>0.400899</td>\n",
              "      <td>1505.631</td>\n",
              "      <td>1460.131</td>\n",
              "      <td>2.0</td>\n",
              "      <td>1.0</td>\n",
              "      <td>1.0</td>\n",
              "      <td>0</td>\n",
              "      <td>0</td>\n",
              "      <td>0</td>\n",
              "      <td>0</td>\n",
              "      <td>0</td>\n",
              "      <td>0</td>\n",
              "      <td>0</td>\n",
              "      <td>0</td>\n",
              "      <td>0</td>\n",
              "      <td>0</td>\n",
              "      <td>0</td>\n",
              "      <td>0</td>\n",
              "      <td>1</td>\n",
              "      <td>0</td>\n",
              "      <td>0</td>\n",
              "      <td>0</td>\n",
              "      <td>0</td>\n",
              "      <td>0</td>\n",
              "      <td>0</td>\n",
              "      <td>...</td>\n",
              "      <td>0</td>\n",
              "      <td>0</td>\n",
              "      <td>0</td>\n",
              "      <td>0</td>\n",
              "      <td>0</td>\n",
              "      <td>0</td>\n",
              "      <td>0</td>\n",
              "      <td>0</td>\n",
              "      <td>0</td>\n",
              "      <td>0</td>\n",
              "      <td>0</td>\n",
              "      <td>0</td>\n",
              "      <td>0</td>\n",
              "      <td>0</td>\n",
              "      <td>0</td>\n",
              "      <td>0</td>\n",
              "      <td>0</td>\n",
              "      <td>0</td>\n",
              "      <td>0</td>\n",
              "      <td>0</td>\n",
              "      <td>0</td>\n",
              "      <td>0</td>\n",
              "      <td>0</td>\n",
              "      <td>0</td>\n",
              "      <td>0</td>\n",
              "      <td>0</td>\n",
              "      <td>0</td>\n",
              "      <td>0</td>\n",
              "      <td>0</td>\n",
              "      <td>0</td>\n",
              "      <td>0</td>\n",
              "      <td>0</td>\n",
              "      <td>0</td>\n",
              "      <td>0</td>\n",
              "      <td>0</td>\n",
              "      <td>0</td>\n",
              "      <td>0</td>\n",
              "      <td>0</td>\n",
              "      <td>0</td>\n",
              "      <td>0</td>\n",
              "    </tr>\n",
              "  </tbody>\n",
              "</table>\n",
              "<p>5 rows × 106 columns</p>\n",
              "</div>"
            ],
            "text/plain": [
              "           date  season  elo1_pre  elo2_pre  elo_prob1  ...  WSN  BL4  ELI  MID  RC1\n",
              "0  1.146442e+18    2006  1505.397  1460.054   0.598488  ...    0    0    0    0    0\n",
              "1  1.146442e+18    2006  1505.397  1460.054   0.598488  ...    0    0    0    0    0\n",
              "2  1.146442e+18    2006  1505.397  1460.054   0.598488  ...    0    0    0    0    0\n",
              "3  1.146442e+18    2006  1505.397  1460.054   0.598488  ...    0    0    0    0    0\n",
              "4  1.146442e+18    2006  1505.397  1460.054   0.598488  ...    0    0    0    0    0\n",
              "\n",
              "[5 rows x 106 columns]"
            ]
          },
          "metadata": {
            "tags": []
          },
          "execution_count": 18
        }
      ]
    },
    {
      "cell_type": "code",
      "metadata": {
        "id": "fHBj13WieIEq",
        "outputId": "c07943aa-ad59-4081-e0e2-f868980c94fe",
        "colab": {
          "base_uri": "https://localhost:8080/",
          "height": 218
        }
      },
      "source": [
        "df.dtypes"
      ],
      "execution_count": 19,
      "outputs": [
        {
          "output_type": "execute_result",
          "data": {
            "text/plain": [
              "date         float64\n",
              "season         int64\n",
              "elo1_pre     float64\n",
              "elo2_pre     float64\n",
              "elo_prob1    float64\n",
              "              ...   \n",
              "WSN            uint8\n",
              "BL4            uint8\n",
              "ELI            uint8\n",
              "MID            uint8\n",
              "RC1            uint8\n",
              "Length: 106, dtype: object"
            ]
          },
          "metadata": {
            "tags": []
          },
          "execution_count": 19
        }
      ]
    },
    {
      "cell_type": "markdown",
      "metadata": {
        "id": "9QcPMAkQydl5"
      },
      "source": [
        "Defined X and y, created the training and testing set, trained models, predicted values, and cross validated models. "
      ]
    },
    {
      "cell_type": "code",
      "metadata": {
        "id": "rre3bXddt0-u"
      },
      "source": [
        "X=df.drop(df[['score1','score2']], axis=1)\n",
        "y=df[['score1']]"
      ],
      "execution_count": 20,
      "outputs": []
    },
    {
      "cell_type": "code",
      "metadata": {
        "id": "5o5848Vzt491"
      },
      "source": [
        "X_train, X_test, y_train, y_test=train_test_split(X, y, test_size=0.20, random_state=1)"
      ],
      "execution_count": 21,
      "outputs": []
    },
    {
      "cell_type": "code",
      "metadata": {
        "id": "x0rGbzaTt6cN",
        "outputId": "fa6d16e0-9fe5-4069-ed47-d3d29ff83a8a",
        "colab": {
          "base_uri": "https://localhost:8080/",
          "height": 195
        }
      },
      "source": [
        "reg=RandomForestRegressor()\n",
        "reg.fit(X_train, y_train)"
      ],
      "execution_count": 22,
      "outputs": [
        {
          "output_type": "stream",
          "text": [
            "/usr/local/lib/python3.6/dist-packages/ipykernel_launcher.py:2: DataConversionWarning: A column-vector y was passed when a 1d array was expected. Please change the shape of y to (n_samples,), for example using ravel().\n",
            "  \n"
          ],
          "name": "stderr"
        },
        {
          "output_type": "execute_result",
          "data": {
            "text/plain": [
              "RandomForestRegressor(bootstrap=True, ccp_alpha=0.0, criterion='mse',\n",
              "                      max_depth=None, max_features='auto', max_leaf_nodes=None,\n",
              "                      max_samples=None, min_impurity_decrease=0.0,\n",
              "                      min_impurity_split=None, min_samples_leaf=1,\n",
              "                      min_samples_split=2, min_weight_fraction_leaf=0.0,\n",
              "                      n_estimators=100, n_jobs=None, oob_score=False,\n",
              "                      random_state=None, verbose=0, warm_start=False)"
            ]
          },
          "metadata": {
            "tags": []
          },
          "execution_count": 22
        }
      ]
    },
    {
      "cell_type": "code",
      "metadata": {
        "id": "PL3jbCxzBH9u",
        "outputId": "91cad484-4fe4-4a38-bf59-e2453f89d118",
        "colab": {
          "base_uri": "https://localhost:8080/",
          "height": 52
        }
      },
      "source": [
        "y_pred=reg.predict(X_test)\n",
        "reg_mse=mse(y_test, y_pred)\n",
        "print(y_pred)\n",
        "print(reg_mse)"
      ],
      "execution_count": 23,
      "outputs": [
        {
          "output_type": "stream",
          "text": [
            "[ 8.  6.  3. ...  2. 11.  7.]\n",
            "4.577917505502447e-05\n"
          ],
          "name": "stdout"
        }
      ]
    },
    {
      "cell_type": "markdown",
      "metadata": {
        "id": "VyFQ-EANxLCa"
      },
      "source": [
        "I tried to do cross validation, but it required too much memory and crashed."
      ]
    },
    {
      "cell_type": "code",
      "metadata": {
        "id": "LjcLahtDt8T2"
      },
      "source": [
        "#cv= RepeatedKFold(n_splits=10, n_repeats=3, random_state=1)\n",
        "#n_scores=cross_val_score(reg, X, y, scoring='neg_mean_absolute_error', cv=cv, error_score='raise')\n",
        "#n_scores=absolute(n_scores)\n",
        "#print('Result: %.3f (%.3f)' % (mean(n_scores), std(n_scores))) "
      ],
      "execution_count": 26,
      "outputs": []
    },
    {
      "cell_type": "code",
      "metadata": {
        "id": "XMS4jvrxrfRh",
        "outputId": "6f486bdf-f2c6-4f27-9581-88205e4b66da",
        "colab": {
          "base_uri": "https://localhost:8080/",
          "height": 230
        }
      },
      "source": [
        "gbr=GradientBoostingRegressor()\n",
        "gbr.fit(X_train, y_train)"
      ],
      "execution_count": 24,
      "outputs": [
        {
          "output_type": "stream",
          "text": [
            "/usr/local/lib/python3.6/dist-packages/sklearn/ensemble/_gb.py:1454: DataConversionWarning: A column-vector y was passed when a 1d array was expected. Please change the shape of y to (n_samples, ), for example using ravel().\n",
            "  y = column_or_1d(y, warn=True)\n"
          ],
          "name": "stderr"
        },
        {
          "output_type": "execute_result",
          "data": {
            "text/plain": [
              "GradientBoostingRegressor(alpha=0.9, ccp_alpha=0.0, criterion='friedman_mse',\n",
              "                          init=None, learning_rate=0.1, loss='ls', max_depth=3,\n",
              "                          max_features=None, max_leaf_nodes=None,\n",
              "                          min_impurity_decrease=0.0, min_impurity_split=None,\n",
              "                          min_samples_leaf=1, min_samples_split=2,\n",
              "                          min_weight_fraction_leaf=0.0, n_estimators=100,\n",
              "                          n_iter_no_change=None, presort='deprecated',\n",
              "                          random_state=None, subsample=1.0, tol=0.0001,\n",
              "                          validation_fraction=0.1, verbose=0, warm_start=False)"
            ]
          },
          "metadata": {
            "tags": []
          },
          "execution_count": 24
        }
      ]
    },
    {
      "cell_type": "code",
      "metadata": {
        "id": "H1YYN7HLBbT_",
        "outputId": "2f2f3f31-43be-4d1c-a552-70473771433e",
        "colab": {
          "base_uri": "https://localhost:8080/",
          "height": 52
        }
      },
      "source": [
        "gbr_ypred=gbr.predict(X_test)\n",
        "gbr_mse=mse(y_test, gbr_ypred)\n",
        "print(gbr_ypred)\n",
        "print(gbr_mse)"
      ],
      "execution_count": 25,
      "outputs": [
        {
          "output_type": "stream",
          "text": [
            "[3.77492864 6.30982047 3.73537952 ... 3.98355089 6.10129098 5.99742416]\n",
            "6.121892743836599\n"
          ],
          "name": "stdout"
        }
      ]
    },
    {
      "cell_type": "code",
      "metadata": {
        "id": "8vDmsoXDibNT",
        "outputId": "c1607c8e-3460-4abd-955a-4c91442ccc52",
        "colab": {
          "base_uri": "https://localhost:8080/",
          "height": 407
        }
      },
      "source": [
        "columns=X.columns\n",
        "feature_importance=gbr.feature_importances_\n",
        "sorted_idx=np.argsort(feature_importance)\n",
        "pos=np.arange(sorted_idx.shape[0]) +0.5\n",
        "fig=plt.figure(figsize=(12,6))\n",
        "plt.subplot(1,2,1)\n",
        "plt.barh(pos, feature_importance[sorted_idx],align='center')\n",
        "plt.yticks(pos, np.array(columns)[sorted_idx])\n",
        "plt.ylim(80,102)\n",
        "plt.title('Feature Importance')"
      ],
      "execution_count": 77,
      "outputs": [
        {
          "output_type": "execute_result",
          "data": {
            "text/plain": [
              "Text(0.5, 1.0, 'Feature Importance')"
            ]
          },
          "metadata": {
            "tags": []
          },
          "execution_count": 77
        },
        {
          "output_type": "display_data",
          "data": {
            "image/png": "[encoded data removed]",
            "text/plain": [
              "<Figure size 864x432 with 1 Axes>"
            ]
          },
          "metadata": {
            "tags": [],
            "needs_background": "light"
          }
        }
      ]
    },
    {
      "cell_type": "code",
      "metadata": {
        "id": "aVpdEM_tt_nN",
        "outputId": "2356fc4d-4026-4869-d2a9-f76a49ccec2f",
        "colab": {
          "base_uri": "https://localhost:8080/",
          "height": 107
        }
      },
      "source": [
        "cv= RepeatedKFold(n_splits=10, n_repeats=3, random_state=1)\n",
        "n_scores=cross_val_score(gbr, X, y, scoring='neg_mean_absolute_error', cv=cv, error_score='raise')\n",
        "n_scores=absolute(n_scores)\n",
        "print('Result: %.3f (%.3f)' % (mean(n_scores), std(n_scores))) "
      ],
      "execution_count": null,
      "outputs": [
        {
          "output_type": "stream",
          "text": [
            "/usr/local/lib/python3.6/dist-packages/sklearn/ensemble/_gb.py:1454: DataConversionWarning: A column-vector y was passed when a 1d array was expected. Please change the shape of y to (n_samples, ), for example using ravel().\n",
            "  y = column_or_1d(y, warn=True)\n",
            "/usr/local/lib/python3.6/dist-packages/sklearn/ensemble/_gb.py:1454: DataConversionWarning: A column-vector y was passed when a 1d array was expected. Please change the shape of y to (n_samples, ), for example using ravel().\n",
            "  y = column_or_1d(y, warn=True)\n"
          ],
          "name": "stderr"
        }
      ]
    },
    {
      "cell_type": "markdown",
      "metadata": {
        "id": "D2RgvVkD2DAr"
      },
      "source": [
        "I also attemped sklearn's MultiOutputRegressor, but it crashed google colab..."
      ]
    },
    {
      "cell_type": "code",
      "metadata": {
        "id": "2lBIrnllsfFi"
      },
      "source": [
        "mor=MultiOutputRegressor(LinearRegression).fit(X_train, y_train)\n",
        "mor_ypred=mor.predict(X_test)\n",
        "mor_mse=mse(y_test, mor_ypred)\n",
        "print(mor_ypred)\n",
        "print(mor_mse)"
      ],
      "execution_count": null,
      "outputs": []
    },
    {
      "cell_type": "code",
      "metadata": {
        "id": "Y9wzPdwR1-L2"
      },
      "source": [
        ""
      ],
      "execution_count": null,
      "outputs": []
    }
  ]
}